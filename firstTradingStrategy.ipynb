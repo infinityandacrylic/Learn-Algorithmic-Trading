{
 "cells": [
  {
   "cell_type": "markdown",
   "metadata": {},
   "source": [
    "# Buy when price is low, sell when price is high"
   ]
  },
  {
   "cell_type": "code",
   "execution_count": 14,
   "metadata": {},
   "outputs": [],
   "source": [
    "#getting data\n",
    "\n",
    "from pandas_datareader import data\n",
    "import numpy as np\n",
    "import matplotlib.pyplot as plt"
   ]
  },
  {
   "cell_type": "code",
   "execution_count": 4,
   "metadata": {},
   "outputs": [
    {
     "name": "stdout",
     "output_type": "stream",
     "text": [
      "                   High          Low         Open        Close     Volume  \\\n",
      "Date                                                                        \n",
      "2013-12-31   558.406982   551.064453   554.043335   558.262512  2725979.0   \n",
      "2014-01-02   556.788025   552.060730   555.647278   554.481689  3656454.0   \n",
      "2014-01-03   556.379578   550.401978   555.418152   550.436829  3345894.0   \n",
      "2014-01-06   557.340942   551.154114   554.426880   556.573853  3551864.0   \n",
      "2014-01-07   567.717041   558.486633   560.399475   567.303589  5124336.0   \n",
      "...                 ...          ...          ...          ...        ...   \n",
      "2020-12-24  1746.000000  1729.109985  1735.000000  1738.849976   346800.0   \n",
      "2020-12-28  1790.728027  1746.334961  1751.635010  1776.089966  1393000.0   \n",
      "2020-12-29  1792.439941  1756.089966  1787.790039  1758.719971  1299400.0   \n",
      "2020-12-30  1765.094971  1725.599976  1762.010010  1739.520020  1306100.0   \n",
      "2020-12-31  1758.930054  1735.420044  1735.420044  1751.880005  1011900.0   \n",
      "\n",
      "              Adj Close  \n",
      "Date                     \n",
      "2013-12-31   558.262512  \n",
      "2014-01-02   554.481689  \n",
      "2014-01-03   550.436829  \n",
      "2014-01-06   556.573853  \n",
      "2014-01-07   567.303589  \n",
      "...                 ...  \n",
      "2020-12-24  1738.849976  \n",
      "2020-12-28  1776.089966  \n",
      "2020-12-29  1758.719971  \n",
      "2020-12-30  1739.520020  \n",
      "2020-12-31  1751.880005  \n",
      "\n",
      "[1764 rows x 6 columns]\n"
     ]
    }
   ],
   "source": [
    "startDate = '2014-01-01'\n",
    "endDate = '2021-01-01'\n",
    "googData = data.DataReader('GOOG', 'yahoo', startDate, endDate)\n",
    "print(googData)"
   ]
  },
  {
   "cell_type": "markdown",
   "metadata": {},
   "source": [
    "# Preparing data - signal\n",
    "\n",
    "need to decide when to trade using a signal. This signal may use a large variety of inputes: market information, news or social networking website.\n",
    "\n",
    "Here, lets calculate the difference in the adj close price between two consecutive days. If value of the adjusted close is negative, the price on the previous day was higher so we can buy since the price is lower now.\n",
    "If this value is positive, we can sell since the price is higher."
   ]
  },
  {
   "cell_type": "code",
   "execution_count": 5,
   "metadata": {},
   "outputs": [
    {
     "data": {
      "text/html": [
       "<div>\n",
       "<style scoped>\n",
       "    .dataframe tbody tr th:only-of-type {\n",
       "        vertical-align: middle;\n",
       "    }\n",
       "\n",
       "    .dataframe tbody tr th {\n",
       "        vertical-align: top;\n",
       "    }\n",
       "\n",
       "    .dataframe thead th {\n",
       "        text-align: right;\n",
       "    }\n",
       "</style>\n",
       "<table border=\"1\" class=\"dataframe\">\n",
       "  <thead>\n",
       "    <tr style=\"text-align: right;\">\n",
       "      <th></th>\n",
       "      <th>price</th>\n",
       "      <th>DailyDifference</th>\n",
       "    </tr>\n",
       "    <tr>\n",
       "      <th>Date</th>\n",
       "      <th></th>\n",
       "      <th></th>\n",
       "    </tr>\n",
       "  </thead>\n",
       "  <tbody>\n",
       "    <tr>\n",
       "      <th>2013-12-31</th>\n",
       "      <td>558.262512</td>\n",
       "      <td>NaN</td>\n",
       "    </tr>\n",
       "    <tr>\n",
       "      <th>2014-01-02</th>\n",
       "      <td>554.481689</td>\n",
       "      <td>-3.780823</td>\n",
       "    </tr>\n",
       "    <tr>\n",
       "      <th>2014-01-03</th>\n",
       "      <td>550.436829</td>\n",
       "      <td>-4.044861</td>\n",
       "    </tr>\n",
       "    <tr>\n",
       "      <th>2014-01-06</th>\n",
       "      <td>556.573853</td>\n",
       "      <td>6.137024</td>\n",
       "    </tr>\n",
       "    <tr>\n",
       "      <th>2014-01-07</th>\n",
       "      <td>567.303589</td>\n",
       "      <td>10.729736</td>\n",
       "    </tr>\n",
       "  </tbody>\n",
       "</table>\n",
       "</div>"
      ],
      "text/plain": [
       "                 price  DailyDifference\n",
       "Date                                   \n",
       "2013-12-31  558.262512              NaN\n",
       "2014-01-02  554.481689        -3.780823\n",
       "2014-01-03  550.436829        -4.044861\n",
       "2014-01-06  556.573853         6.137024\n",
       "2014-01-07  567.303589        10.729736"
      ]
     },
     "execution_count": 5,
     "metadata": {},
     "output_type": "execute_result"
    }
   ],
   "source": [
    "import pandas as pd\n",
    "\n",
    "googDataSignal = pd.DataFrame(index = googData.index)\n",
    "googDataSignal['price'] = googData['Adj Close']\n",
    "googDataSignal['DailyDifference'] = googDataSignal['price'].diff()\n",
    "googDataSignal.head()"
   ]
  },
  {
   "cell_type": "code",
   "execution_count": 10,
   "metadata": {},
   "outputs": [
    {
     "data": {
      "text/html": [
       "<div>\n",
       "<style scoped>\n",
       "    .dataframe tbody tr th:only-of-type {\n",
       "        vertical-align: middle;\n",
       "    }\n",
       "\n",
       "    .dataframe tbody tr th {\n",
       "        vertical-align: top;\n",
       "    }\n",
       "\n",
       "    .dataframe thead th {\n",
       "        text-align: right;\n",
       "    }\n",
       "</style>\n",
       "<table border=\"1\" class=\"dataframe\">\n",
       "  <thead>\n",
       "    <tr style=\"text-align: right;\">\n",
       "      <th></th>\n",
       "      <th>price</th>\n",
       "      <th>DailyDifference</th>\n",
       "      <th>signal</th>\n",
       "    </tr>\n",
       "    <tr>\n",
       "      <th>Date</th>\n",
       "      <th></th>\n",
       "      <th></th>\n",
       "      <th></th>\n",
       "    </tr>\n",
       "  </thead>\n",
       "  <tbody>\n",
       "    <tr>\n",
       "      <th>2013-12-31</th>\n",
       "      <td>558.262512</td>\n",
       "      <td>NaN</td>\n",
       "      <td>0</td>\n",
       "    </tr>\n",
       "    <tr>\n",
       "      <th>2014-01-02</th>\n",
       "      <td>554.481689</td>\n",
       "      <td>-3.780823</td>\n",
       "      <td>0</td>\n",
       "    </tr>\n",
       "    <tr>\n",
       "      <th>2014-01-03</th>\n",
       "      <td>550.436829</td>\n",
       "      <td>-4.044861</td>\n",
       "      <td>0</td>\n",
       "    </tr>\n",
       "    <tr>\n",
       "      <th>2014-01-06</th>\n",
       "      <td>556.573853</td>\n",
       "      <td>6.137024</td>\n",
       "      <td>1</td>\n",
       "    </tr>\n",
       "    <tr>\n",
       "      <th>2014-01-07</th>\n",
       "      <td>567.303589</td>\n",
       "      <td>10.729736</td>\n",
       "      <td>1</td>\n",
       "    </tr>\n",
       "  </tbody>\n",
       "</table>\n",
       "</div>"
      ],
      "text/plain": [
       "                 price  DailyDifference  signal\n",
       "Date                                           \n",
       "2013-12-31  558.262512              NaN       0\n",
       "2014-01-02  554.481689        -3.780823       0\n",
       "2014-01-03  550.436829        -4.044861       0\n",
       "2014-01-06  556.573853         6.137024       1\n",
       "2014-01-07  567.303589        10.729736       1"
      ]
     },
     "execution_count": 10,
     "metadata": {},
     "output_type": "execute_result"
    }
   ],
   "source": [
    "googDataSignal['signal'] = 0\n",
    "googDataSignal['signal'] = np.where(googDataSignal['DailyDifference'] > 0, 1, 0)\n",
    "googDataSignal.head()"
   ]
  },
  {
   "cell_type": "markdown",
   "metadata": {},
   "source": [
    "here, we have 0 where we need to buy, 1 when we have to sell. But we dont want to constantly buy if the market keeps moving down or constantly sell if the market is moving up. we limit the number of orders by restricting the number of positions in the market.\n",
    "\n",
    "We make it impossible to buy or sell more than one time consecutively. thus, we apply diff to the signal:"
   ]
  },
  {
   "cell_type": "code",
   "execution_count": 13,
   "metadata": {},
   "outputs": [
    {
     "data": {
      "text/html": [
       "<div>\n",
       "<style scoped>\n",
       "    .dataframe tbody tr th:only-of-type {\n",
       "        vertical-align: middle;\n",
       "    }\n",
       "\n",
       "    .dataframe tbody tr th {\n",
       "        vertical-align: top;\n",
       "    }\n",
       "\n",
       "    .dataframe thead th {\n",
       "        text-align: right;\n",
       "    }\n",
       "</style>\n",
       "<table border=\"1\" class=\"dataframe\">\n",
       "  <thead>\n",
       "    <tr style=\"text-align: right;\">\n",
       "      <th></th>\n",
       "      <th>price</th>\n",
       "      <th>DailyDifference</th>\n",
       "      <th>signal</th>\n",
       "      <th>positions</th>\n",
       "    </tr>\n",
       "    <tr>\n",
       "      <th>Date</th>\n",
       "      <th></th>\n",
       "      <th></th>\n",
       "      <th></th>\n",
       "      <th></th>\n",
       "    </tr>\n",
       "  </thead>\n",
       "  <tbody>\n",
       "    <tr>\n",
       "      <th>2014-01-02</th>\n",
       "      <td>554.481689</td>\n",
       "      <td>-3.780823</td>\n",
       "      <td>0</td>\n",
       "      <td>0.0</td>\n",
       "    </tr>\n",
       "    <tr>\n",
       "      <th>2014-01-03</th>\n",
       "      <td>550.436829</td>\n",
       "      <td>-4.044861</td>\n",
       "      <td>0</td>\n",
       "      <td>0.0</td>\n",
       "    </tr>\n",
       "    <tr>\n",
       "      <th>2014-01-06</th>\n",
       "      <td>556.573853</td>\n",
       "      <td>6.137024</td>\n",
       "      <td>1</td>\n",
       "      <td>1.0</td>\n",
       "    </tr>\n",
       "    <tr>\n",
       "      <th>2014-01-07</th>\n",
       "      <td>567.303589</td>\n",
       "      <td>10.729736</td>\n",
       "      <td>1</td>\n",
       "      <td>0.0</td>\n",
       "    </tr>\n",
       "    <tr>\n",
       "      <th>2014-01-08</th>\n",
       "      <td>568.484192</td>\n",
       "      <td>1.180603</td>\n",
       "      <td>1</td>\n",
       "      <td>0.0</td>\n",
       "    </tr>\n",
       "    <tr>\n",
       "      <th>2014-01-09</th>\n",
       "      <td>563.009705</td>\n",
       "      <td>-5.474487</td>\n",
       "      <td>0</td>\n",
       "      <td>-1.0</td>\n",
       "    </tr>\n",
       "    <tr>\n",
       "      <th>2014-01-10</th>\n",
       "      <td>562.979797</td>\n",
       "      <td>-0.029907</td>\n",
       "      <td>0</td>\n",
       "      <td>0.0</td>\n",
       "    </tr>\n",
       "    <tr>\n",
       "      <th>2014-01-13</th>\n",
       "      <td>559.393250</td>\n",
       "      <td>-3.586548</td>\n",
       "      <td>0</td>\n",
       "      <td>0.0</td>\n",
       "    </tr>\n",
       "    <tr>\n",
       "      <th>2014-01-14</th>\n",
       "      <td>572.553955</td>\n",
       "      <td>13.160706</td>\n",
       "      <td>1</td>\n",
       "      <td>1.0</td>\n",
       "    </tr>\n",
       "  </tbody>\n",
       "</table>\n",
       "</div>"
      ],
      "text/plain": [
       "                 price  DailyDifference  signal  positions\n",
       "Date                                                      \n",
       "2014-01-02  554.481689        -3.780823       0        0.0\n",
       "2014-01-03  550.436829        -4.044861       0        0.0\n",
       "2014-01-06  556.573853         6.137024       1        1.0\n",
       "2014-01-07  567.303589        10.729736       1        0.0\n",
       "2014-01-08  568.484192         1.180603       1        0.0\n",
       "2014-01-09  563.009705        -5.474487       0       -1.0\n",
       "2014-01-10  562.979797        -0.029907       0        0.0\n",
       "2014-01-13  559.393250        -3.586548       0        0.0\n",
       "2014-01-14  572.553955        13.160706       1        1.0"
      ]
     },
     "execution_count": 13,
     "metadata": {},
     "output_type": "execute_result"
    }
   ],
   "source": [
    "googDataSignal['positions'] = googDataSignal['signal'].diff()\n",
    "googDataSignal[1:10]"
   ]
  },
  {
   "cell_type": "markdown",
   "metadata": {},
   "source": [
    "Thus, we buy one share of GOOG on 6 Jan 2014 at 556.57, and sell one share of GOOG on 9 Jan 2014, at 563.01"
   ]
  },
  {
   "cell_type": "markdown",
   "metadata": {},
   "source": [
    "# Signal Visualisation"
   ]
  },
  {
   "cell_type": "code",
   "execution_count": 30,
   "metadata": {},
   "outputs": [
    {
     "name": "stderr",
     "output_type": "stream",
     "text": [
      "/Users/sonakshirohra/opt/anaconda3/lib/python3.8/site-packages/matplotlib/cbook/__init__.py:2064: FutureWarning: Support for multi-dimensional indexing (e.g. `obj[:, None]`) is deprecated and will be removed in a future version.  Convert to a numpy array before indexing instead.\n",
      "  x[:, None]\n",
      "/Users/sonakshirohra/opt/anaconda3/lib/python3.8/site-packages/matplotlib/axes/_base.py:248: FutureWarning: Support for multi-dimensional indexing (e.g. `obj[:, None]`) is deprecated and will be removed in a future version.  Convert to a numpy array before indexing instead.\n",
      "  x = x[:, np.newaxis]\n",
      "/Users/sonakshirohra/opt/anaconda3/lib/python3.8/site-packages/matplotlib/axes/_base.py:250: FutureWarning: Support for multi-dimensional indexing (e.g. `obj[:, None]`) is deprecated and will be removed in a future version.  Convert to a numpy array before indexing instead.\n",
      "  y = y[:, np.newaxis]\n",
      "/Users/sonakshirohra/opt/anaconda3/lib/python3.8/site-packages/matplotlib/cbook/__init__.py:2064: FutureWarning: Support for multi-dimensional indexing (e.g. `obj[:, None]`) is deprecated and will be removed in a future version.  Convert to a numpy array before indexing instead.\n",
      "  x[:, None]\n",
      "/Users/sonakshirohra/opt/anaconda3/lib/python3.8/site-packages/matplotlib/axes/_base.py:248: FutureWarning: Support for multi-dimensional indexing (e.g. `obj[:, None]`) is deprecated and will be removed in a future version.  Convert to a numpy array before indexing instead.\n",
      "  x = x[:, np.newaxis]\n",
      "/Users/sonakshirohra/opt/anaconda3/lib/python3.8/site-packages/matplotlib/axes/_base.py:250: FutureWarning: Support for multi-dimensional indexing (e.g. `obj[:, None]`) is deprecated and will be removed in a future version.  Convert to a numpy array before indexing instead.\n",
      "  y = y[:, np.newaxis]\n"
     ]
    },
    {
     "data": {
      "text/plain": [
       "[<matplotlib.lines.Line2D at 0x7ff9954cedf0>]"
      ]
     },
     "execution_count": 30,
     "metadata": {},
     "output_type": "execute_result"
    },
    {
     "data": {
      "image/png": "[encoded data removed]",
      "text/plain": [
       "<Figure size 432x288 with 1 Axes>"
      ]
     },
     "metadata": {
      "needs_background": "light"
     },
     "output_type": "display_data"
    }
   ],
   "source": [
    "fig = plt.figure()\n",
    "ax1 = fig.add_subplot(111, ylabel = 'Google price in $')\n",
    "\n",
    "googDataSignal['price'].plot(ax=ax1, color = 'blue', lw = 2.)\n",
    "ax1.plot(googDataSignal.loc[googDataSignal.positions == 1.0].index, googDataSignal.price[googDataSignal.positions == 1.0], '^', markersize=5, color = 'g')\n",
    "ax1.plot(googDataSignal.loc[googDataSignal.positions == -1.0].index, googDataSignal.price[googDataSignal.positions == -1.0], 'v', markersize=5, color = 'r')"
   ]
  },
  {
   "cell_type": "markdown",
   "metadata": {},
   "source": [
    "# Backtesting\n",
    "\n",
    "provide statistics that are important, such as:\n",
    "* Profit and loss (without transact fee)\n",
    "* Net profit and loss (with transact fee)\n",
    "* Exposure: capital invested\n",
    "* no of trades: placed during a trading sessions\n",
    "* Annualised return\n",
    "* Sharpe ratio"
   ]
  },
  {
   "cell_type": "code",
   "execution_count": 33,
   "metadata": {},
   "outputs": [
    {
     "data": {
      "text/html": [
       "<div>\n",
       "<style scoped>\n",
       "    .dataframe tbody tr th:only-of-type {\n",
       "        vertical-align: middle;\n",
       "    }\n",
       "\n",
       "    .dataframe tbody tr th {\n",
       "        vertical-align: top;\n",
       "    }\n",
       "\n",
       "    .dataframe thead th {\n",
       "        text-align: right;\n",
       "    }\n",
       "</style>\n",
       "<table border=\"1\" class=\"dataframe\">\n",
       "  <thead>\n",
       "    <tr style=\"text-align: right;\">\n",
       "      <th></th>\n",
       "      <th>positions</th>\n",
       "    </tr>\n",
       "    <tr>\n",
       "      <th>Date</th>\n",
       "      <th></th>\n",
       "    </tr>\n",
       "  </thead>\n",
       "  <tbody>\n",
       "    <tr>\n",
       "      <th>2013-12-31</th>\n",
       "      <td>0.000000</td>\n",
       "    </tr>\n",
       "    <tr>\n",
       "      <th>2014-01-02</th>\n",
       "      <td>0.000000</td>\n",
       "    </tr>\n",
       "    <tr>\n",
       "      <th>2014-01-03</th>\n",
       "      <td>0.000000</td>\n",
       "    </tr>\n",
       "    <tr>\n",
       "      <th>2014-01-06</th>\n",
       "      <td>556.573853</td>\n",
       "    </tr>\n",
       "    <tr>\n",
       "      <th>2014-01-07</th>\n",
       "      <td>567.303589</td>\n",
       "    </tr>\n",
       "  </tbody>\n",
       "</table>\n",
       "</div>"
      ],
      "text/plain": [
       "             positions\n",
       "Date                  \n",
       "2013-12-31    0.000000\n",
       "2014-01-02    0.000000\n",
       "2014-01-03    0.000000\n",
       "2014-01-06  556.573853\n",
       "2014-01-07  567.303589"
      ]
     },
     "execution_count": 33,
     "metadata": {},
     "output_type": "execute_result"
    }
   ],
   "source": [
    "initialCapital = float(1000.00)\n",
    "\n",
    "positions = pd.DataFrame(index=googDataSignal.index).fillna(0.0)\n",
    "portfolio = pd.DataFrame(index=googDataSignal.index).fillna(0.0)\n",
    "\n",
    "positions['GOOG'] = googDataSignal['signal']\n",
    "portfolio['positions'] = (positions.multiply(googDataSignal['price'], axis = 0))\n",
    "\n",
    "portfolio.head()"
   ]
  },
  {
   "cell_type": "code",
   "execution_count": 37,
   "metadata": {},
   "outputs": [],
   "source": [
    "portfolio['cash'] = initialCapital - (positions.diff().multiply(googDataSignal['price'], axis = 0)).cumsum()\n",
    "portfolio['total'] = portfolio['positions'] + portfolio['cash']"
   ]
  },
  {
   "cell_type": "code",
   "execution_count": 38,
   "metadata": {},
   "outputs": [
    {
     "data": {
      "text/html": [
       "<div>\n",
       "<style scoped>\n",
       "    .dataframe tbody tr th:only-of-type {\n",
       "        vertical-align: middle;\n",
       "    }\n",
       "\n",
       "    .dataframe tbody tr th {\n",
       "        vertical-align: top;\n",
       "    }\n",
       "\n",
       "    .dataframe thead th {\n",
       "        text-align: right;\n",
       "    }\n",
       "</style>\n",
       "<table border=\"1\" class=\"dataframe\">\n",
       "  <thead>\n",
       "    <tr style=\"text-align: right;\">\n",
       "      <th></th>\n",
       "      <th>positions</th>\n",
       "      <th>cash</th>\n",
       "      <th>total</th>\n",
       "    </tr>\n",
       "    <tr>\n",
       "      <th>Date</th>\n",
       "      <th></th>\n",
       "      <th></th>\n",
       "      <th></th>\n",
       "    </tr>\n",
       "  </thead>\n",
       "  <tbody>\n",
       "    <tr>\n",
       "      <th>2014-01-02</th>\n",
       "      <td>0.000000</td>\n",
       "      <td>1000.000000</td>\n",
       "      <td>1000.000000</td>\n",
       "    </tr>\n",
       "    <tr>\n",
       "      <th>2014-01-03</th>\n",
       "      <td>0.000000</td>\n",
       "      <td>1000.000000</td>\n",
       "      <td>1000.000000</td>\n",
       "    </tr>\n",
       "    <tr>\n",
       "      <th>2014-01-06</th>\n",
       "      <td>556.573853</td>\n",
       "      <td>443.426147</td>\n",
       "      <td>1000.000000</td>\n",
       "    </tr>\n",
       "    <tr>\n",
       "      <th>2014-01-07</th>\n",
       "      <td>567.303589</td>\n",
       "      <td>443.426147</td>\n",
       "      <td>1010.729736</td>\n",
       "    </tr>\n",
       "    <tr>\n",
       "      <th>2014-01-08</th>\n",
       "      <td>568.484192</td>\n",
       "      <td>443.426147</td>\n",
       "      <td>1011.910339</td>\n",
       "    </tr>\n",
       "    <tr>\n",
       "      <th>2014-01-09</th>\n",
       "      <td>0.000000</td>\n",
       "      <td>1006.435852</td>\n",
       "      <td>1006.435852</td>\n",
       "    </tr>\n",
       "    <tr>\n",
       "      <th>2014-01-10</th>\n",
       "      <td>0.000000</td>\n",
       "      <td>1006.435852</td>\n",
       "      <td>1006.435852</td>\n",
       "    </tr>\n",
       "    <tr>\n",
       "      <th>2014-01-13</th>\n",
       "      <td>0.000000</td>\n",
       "      <td>1006.435852</td>\n",
       "      <td>1006.435852</td>\n",
       "    </tr>\n",
       "    <tr>\n",
       "      <th>2014-01-14</th>\n",
       "      <td>572.553955</td>\n",
       "      <td>433.881897</td>\n",
       "      <td>1006.435852</td>\n",
       "    </tr>\n",
       "  </tbody>\n",
       "</table>\n",
       "</div>"
      ],
      "text/plain": [
       "             positions         cash        total\n",
       "Date                                            \n",
       "2014-01-02    0.000000  1000.000000  1000.000000\n",
       "2014-01-03    0.000000  1000.000000  1000.000000\n",
       "2014-01-06  556.573853   443.426147  1000.000000\n",
       "2014-01-07  567.303589   443.426147  1010.729736\n",
       "2014-01-08  568.484192   443.426147  1011.910339\n",
       "2014-01-09    0.000000  1006.435852  1006.435852\n",
       "2014-01-10    0.000000  1006.435852  1006.435852\n",
       "2014-01-13    0.000000  1006.435852  1006.435852\n",
       "2014-01-14  572.553955   433.881897  1006.435852"
      ]
     },
     "execution_count": 38,
     "metadata": {},
     "output_type": "execute_result"
    }
   ],
   "source": [
    "portfolio[1:10]"
   ]
  },
  {
   "cell_type": "code",
   "execution_count": null,
   "metadata": {},
   "outputs": [],
   "source": []
  }
 ],
 "metadata": {
  "interpreter": {
   "hash": "d9542f6d2a733f76b77b9a688b98118086f65c77e5093bd6ef3ddcffeca637f9"
  },
  "kernelspec": {
   "display_name": "Python 3.8.5 64-bit ('base': conda)",
   "name": "python3"
  },
  "language_info": {
   "codemirror_mode": {
    "name": "ipython",
    "version": 3
   },
   "file_extension": ".py",
   "mimetype": "text/x-python",
   "name": "python",
   "nbconvert_exporter": "python",
   "pygments_lexer": "ipython3",
   "version": "3.8.5"
  }
 },
 "nbformat": 4,
 "nbformat_minor": 4
}